{
  "cells": [
    {
      "cell_type": "markdown",
      "metadata": {
        "id": "m7qxrCOQIpCr"
      },
      "source": [
        "# CODSOFT INTERNSHIP\n",
        "# Task 4: Sales Prediction Using Pythom\n",
        "# Author: Aab El Roi\n",
        "# Field: Data Science\n",
        "# Batch: September 2024"
      ]
    },
    {
      "cell_type": "markdown",
      "metadata": {
        "id": "yqJs7h_JI9Ma"
      },
      "source": [
        "# AIM\n",
        "\n",
        "# To develop a robust sales prediction model using machine learning techniques in Python. This model will forecast future sales volumes by analyzing historical sales data and considering various influencing factors such as advertising expenditure, target audience segmentation, and advertising platform selection. The goal is to enable businesses to make informed decisions on optimizing their advertising strategies and maximizing sales potential through accurate and actionable predictions."
      ]
    },
    {
      "cell_type": "markdown",
      "metadata": {
        "id": "7aNP3ZCSJqd2"
      },
      "source": [
        "# 1: Load and Explore Data"
      ]
    },
    {
      "cell_type": "code",
      "execution_count": null,
      "metadata": {
        "colab": {
          "base_uri": "https://localhost:8080/"
        },
        "id": "Wc6rCo4RJsmT",
        "outputId": "fe213e19-c362-43f5-b176-f848fe6962ce"
      },
      "outputs": [
        {
          "name": "stdout",
          "output_type": "stream",
          "text": [
            "      TV  Radio  Newspaper  Sales\n",
            "0  230.1   37.8       69.2   22.1\n",
            "1   44.5   39.3       45.1   10.4\n",
            "2   17.2   45.9       69.3   12.0\n",
            "3  151.5   41.3       58.5   16.5\n",
            "4  180.8   10.8       58.4   17.9\n",
            "               TV       Radio   Newspaper       Sales\n",
            "count  200.000000  200.000000  200.000000  200.000000\n",
            "mean   147.042500   23.264000   30.554000   15.130500\n",
            "std     85.854236   14.846809   21.778621    5.283892\n",
            "min      0.700000    0.000000    0.300000    1.600000\n",
            "25%     74.375000    9.975000   12.750000   11.000000\n",
            "50%    149.750000   22.900000   25.750000   16.000000\n",
            "75%    218.825000   36.525000   45.100000   19.050000\n",
            "max    296.400000   49.600000  114.000000   27.000000\n"
          ]
        }
      ],
      "source": [
        "import pandas as pd\n",
        "import matplotlib.pyplot as plt\n",
        "\n",
        "# Load the dataset\n",
        "data = pd.read_csv('/content/drive/MyDrive/CODSOFT Internship/TASK 4/advertising.csv')\n",
        "\n",
        "\n",
        "# Display the first few rows of the dataset to check column names\n",
        "print(data.head())\n",
        "\n",
        "# Basic statistics\n",
        "print(data.describe())\n",
        "\n",
        "# Plot the distribution of Advertising and Sales\n",
        "plt.figure(figsize=(12, 5))\n",
        "\n",
        "plt.subplot(1, 2, 1)\n",
        "\n",
        "# Check for the correct column name in your dataset and replace 'Advertising' if necessary\n",
        "plt.hist(data['TV'], bins=20, color='skyblue', edgecolor='black')\n",
        "\n",
        "plt.title('Distribution of Advertising Expenditure')\n",
        "plt.xlabel('Advertising Expenditure')\n",
        "plt.ylabel('Frequency')\n",
        "\n",
        "plt.subplot(1, 2, 2)\n",
        "plt.hist(data['Sales'], bins=20, color='salmon', edgecolor='black')\n",
        "plt.title('Distribution of Sales')\n",
        "plt.xlabel('Sales')\n",
        "plt.ylabel('Frequency')\n",
        "\n",
        "plt.tight_layout()\n",
        "plt.show()"
      ]
    },
    {
      "cell_type": "markdown",
      "metadata": {
        "id": "CCdrQG8aJvbu"
      },
      "source": [
        "# 2: Prepare Data and Train Model"
      ]
    },
    {
      "cell_type": "code",
      "execution_count": null,
      "metadata": {
        "id": "rlhrGweKJ1On"
      },
      "outputs": [],
      "source": [
        "from sklearn.model_selection import train_test_split\n",
        "from sklearn.linear_model import LinearRegression\n",
        "from sklearn.metrics import mean_squared_error, r2_score\n",
        "\n",
        "# Features and target variable\n",
        "X = data[['TV']]  # Replace 'Advertising' with the actual column name from your dataset\n",
        "y = data['Sales']\n",
        "\n",
        "# Split the data into training and testing sets\n",
        "X_train, X_test, y_train, y_test = train_test_split(X, y, test_size=0.2, random_state=0)\n",
        "\n",
        "# Initialize and train the model\n",
        "model = LinearRegression()\n",
        "model.fit(X_train, y_train)\n",
        "\n",
        "# Make predictions\n",
        "y_pred = model.predict(X_test)\n",
        "\n",
        "# Evaluate the model\n",
        "mse = mean_squared_error(y_test, y_pred)\n",
        "r2 = r2_score(y_test, y_pred)\n",
        "\n",
        "print(f'Mean Squared Error: {mse}')\n",
        "print(f'R-squared: {r2}')"
      ]
    },
    {
      "cell_type": "markdown",
      "metadata": {
        "id": "xOhpRrK0J8we"
      },
      "source": [
        "# 3: Visualize the Regression Line"
      ]
    },
    {
      "cell_type": "code",
      "execution_count": null,
      "metadata": {
        "id": "Wz60B_XdKBJK"
      },
      "outputs": [],
      "source": [
        "# Plotting the regression line\n",
        "\n",
        "plt.figure(figsize=(8, 6))\n",
        "plt.scatter(X_test, y_test, color='black', label='Actual data')\n",
        "plt.plot(X_test, y_pred, color='blue', linewidth=3, label='Regression line')\n",
        "plt.xlabel('Advertising Expenditure')\n",
        "plt.ylabel('Sales')\n",
        "plt.title('Advertising vs Sales with Regression Line')\n",
        "plt.legend()\n",
        "plt.show()"
      ]
    },
    {
      "cell_type": "markdown",
      "metadata": {
        "id": "rVD8XwXGKD6b"
      },
      "source": [
        "# 4: Save the Model"
      ]
    },
    {
      "cell_type": "code",
      "execution_count": null,
      "metadata": {
        "colab": {
          "background_save": true
        },
        "id": "V452WirVKItX"
      },
      "outputs": [],
      "source": [
        "import joblib\n",
        "\n",
        "# Save the model\n",
        "joblib.dump(model, '/content/sales_model.pkl')\n",
        "\n",
        "# Save the data for visualization in Streamlit\n",
        "data.to_csv('/content/sales_data.csv', index=False)"
      ]
    }
  ],
  "metadata": {
    "colab": {
      "provenance": []
    },
    "kernelspec": {
      "display_name": "Python 3",
      "name": "python3"
    },
    "language_info": {
      "name": "python"
    }
  },
  "nbformat": 4,
  "nbformat_minor": 0
}